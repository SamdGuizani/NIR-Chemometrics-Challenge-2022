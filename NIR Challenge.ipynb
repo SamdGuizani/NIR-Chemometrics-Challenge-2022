{
 "cells": [
  {
   "attachments": {},
   "cell_type": "markdown",
   "metadata": {},
   "source": [
    "# Imports"
   ]
  },
  {
   "cell_type": "code",
   "execution_count": 5,
   "metadata": {},
   "outputs": [],
   "source": [
    "import numpy as np\n",
    "import pandas as pd"
   ]
  },
  {
   "attachments": {},
   "cell_type": "markdown",
   "metadata": {},
   "source": [
    "# Global Variables"
   ]
  },
  {
   "cell_type": "code",
   "execution_count": 9,
   "metadata": {},
   "outputs": [],
   "source": [
    "PATH_TO_INPUT = '../Input/'\n",
    "PATH_TO_OUTPUT = '../Input/'\n",
    "PATH_TO_SCRIPT = '../Scripts/'"
   ]
  },
  {
   "attachments": {},
   "cell_type": "markdown",
   "metadata": {},
   "source": [
    "# Main Script"
   ]
  },
  {
   "attachments": {},
   "cell_type": "markdown",
   "metadata": {},
   "source": [
    "## Loading Data"
   ]
  },
  {
   "cell_type": "code",
   "execution_count": 46,
   "metadata": {},
   "outputs": [
    {
     "name": "stdout",
     "output_type": "stream",
     "text": [
      "Training dataset shape: Spectra = (400, 653), Response = (400,)\n",
      "\n",
      "Testing dataset shape: Spectra = (100, 653), Response = (100,)\n",
      "\n",
      "Validation dataset shape: Spectra = (80, 653), Response = (80,)\n",
      "\n"
     ]
    }
   ],
   "source": [
    "# Training set\n",
    "df_train = pd.read_csv(PATH_TO_INPUT + 'train_set.csv')\n",
    "train_ID = df_train.ID \n",
    "train_Y = df_train.Yref.to_numpy()\n",
    "train_X = df_train.iloc[:,2:].to_numpy()\n",
    "print(f'Training dataset shape: Spectra = {train_X.shape}, Response = {train_Y.shape}\\n')\n",
    "\n",
    "# Testing set\n",
    "df_test = pd.read_csv(PATH_TO_INPUT + 'test_set.csv')\n",
    "test_ID = df_test.ID \n",
    "test_Y = df_test.Yref.to_numpy()\n",
    "test_X = df_test.iloc[:,2:].to_numpy()\n",
    "print(f'Testing dataset shape: Spectra = {test_X.shape}, Response = {test_Y.shape}\\n')\n",
    "\n",
    "# Validation set\n",
    "df_validation_X = pd.read_csv(PATH_TO_INPUT + 'X_validation_HSI.csv')\n",
    "df_validation_Y_ref = pd.read_csv(PATH_TO_INPUT + 'Y_validation.csv')\n",
    "validation_ID = df_validation_X.SampleID.unique()\n",
    "validation_X = df_validation_X.iloc[:,1:].groupby('SampleID').mean().to_numpy()\n",
    "validation_Y_ref = df_validation_Y_ref.to_numpy().ravel()\n",
    "print(f'Validation dataset shape: Spectra = {validation_X.shape}, Response = {validation_Y_ref.shape}\\n')"
   ]
  },
  {
   "cell_type": "code",
   "execution_count": 61,
   "metadata": {},
   "outputs": [
    {
     "data": {
      "text/plain": [
       "array([[0.01814746, 0.01825626, 0.01838911, ..., 0.45784942, 0.46062051,\n",
       "        0.46353112],\n",
       "       [0.02106239, 0.02115398, 0.02123777, ..., 0.47173232, 0.47453385,\n",
       "        0.47743932],\n",
       "       [0.01636158, 0.01647113, 0.01665018, ..., 0.42203971, 0.42444427,\n",
       "        0.42726973],\n",
       "       ...,\n",
       "       [0.02087713, 0.02081278, 0.02080469, ..., 0.4698253 , 0.47262021,\n",
       "        0.47561716],\n",
       "       [0.02471037, 0.02472154, 0.02470486, ..., 0.46008176, 0.46254555,\n",
       "        0.4654111 ],\n",
       "       [0.02188839, 0.02190128, 0.02197642, ..., 0.49480559, 0.49761283,\n",
       "        0.5004398 ]])"
      ]
     },
     "execution_count": 61,
     "metadata": {},
     "output_type": "execute_result"
    }
   ],
   "source": [
    "validation_X"
   ]
  },
  {
   "cell_type": "code",
   "execution_count": null,
   "metadata": {},
   "outputs": [],
   "source": []
  }
 ],
 "metadata": {
  "kernelspec": {
   "display_name": "base",
   "language": "python",
   "name": "python3"
  },
  "language_info": {
   "codemirror_mode": {
    "name": "ipython",
    "version": 3
   },
   "file_extension": ".py",
   "mimetype": "text/x-python",
   "name": "python",
   "nbconvert_exporter": "python",
   "pygments_lexer": "ipython3",
   "version": "3.11.7"
  },
  "orig_nbformat": 4,
  "vscode": {
   "interpreter": {
    "hash": "3c06e3e46abf38078fe4dac36a0085ec2b134ebbd73dd076183d243eeca6918f"
   }
  }
 },
 "nbformat": 4,
 "nbformat_minor": 2
}
